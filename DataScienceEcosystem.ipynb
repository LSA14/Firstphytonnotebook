{
 "cells": [
  {
   "cell_type": "code",
   "execution_count": 1,
   "id": "5c539ade-bc26-4003-a134-3b2134f54f58",
   "metadata": {},
   "outputs": [],
   "source": [
    "#Create a markdown cell with the title Data Science Tools and Ecosystem using H1 style heading.\n"
   ]
  },
  {
   "cell_type": "markdown",
   "id": "ed32ee68-e4af-4737-ad8f-a3f8a2082443",
   "metadata": {},
   "source": [
    "# Data Science Tools and Ecosystem\n"
   ]
  },
  {
   "cell_type": "code",
   "execution_count": 7,
   "id": "61d75f55-eec2-4647-ac5e-10847146c70f",
   "metadata": {},
   "outputs": [],
   "source": [
    "## Create a markdown cell for an introduction\n"
   ]
  },
  {
   "cell_type": "markdown",
   "id": "28e3d7e1-9615-44de-954f-d4ca4338b919",
   "metadata": {},
   "source": [
    "## In this notebook, Data Science Tools and Ecosystem are summarize"
   ]
  },
  {
   "cell_type": "code",
   "execution_count": 8,
   "id": "9f735369-c085-4bab-8566-c2896375d81c",
   "metadata": {},
   "outputs": [],
   "source": [
    "# Exercise 4 - Create a markdown cell to list data science languages"
   ]
  },
  {
   "cell_type": "markdown",
   "id": "6200ebb1-8e3d-45ed-a3c1-16267e42ac2d",
   "metadata": {},
   "source": [
    "## **Objectives:** \n",
    "- List popular languages for Data Science\n",
    "- List commonly used libraries for Data Science\n",
    "- Understand and list Data Science tools\n"
   ]
  },
  {
   "cell_type": "markdown",
   "id": "3f391ce9-ce19-4c66-a475-1712b80d3a00",
   "metadata": {},
   "source": [
    "## Some of the popular languages that Data Scientists use are:\n",
    "\n",
    "1. Python\n",
    "2. R\n",
    "3. SQL\n",
    "4. Julia\n",
    "5. Java"
   ]
  },
  {
   "cell_type": "code",
   "execution_count": 9,
   "id": "eae86fde-2819-41b1-a67a-aee2a3ba0762",
   "metadata": {},
   "outputs": [],
   "source": [
    "# Exercise 5 - Create a markdown cell to list data science libraries"
   ]
  },
  {
   "cell_type": "markdown",
   "id": "10306f66-9abc-4d54-94b3-03336038c2c7",
   "metadata": {},
   "source": [
    "## Some of the commonly used libraries used by Data Scientists include:\n",
    "\n",
    "1. NumPy\n",
    "2. Pandas\n",
    "3. Matplotlib\n",
    "4. Scikit-learn\n",
    "5. TensorFlow\n",
    "6. PyTorch"
   ]
  },
  {
   "cell_type": "code",
   "execution_count": 10,
   "id": "e769249b-26ac-4e77-8d5e-49ee9c83d1d8",
   "metadata": {},
   "outputs": [],
   "source": [
    "# Exercise 6 - Create a markdown cell with a table of Data Science tools"
   ]
  },
  {
   "cell_type": "markdown",
   "id": "a62959a0-26b6-49f0-a9cf-f1569b9e5544",
   "metadata": {},
   "source": [
    "\"\"\"\n",
    "## Data Science Tools\n",
    "\n",
    "| Data Science Tools          |\n",
    "|-----------------------------|\n",
    "| Jupyter Notebook            |\n",
    "| RStudio                     |\n",
    "| Apache Zeppelin             |\n",
    "\"\"\"\n"
   ]
  },
  {
   "cell_type": "code",
   "execution_count": 11,
   "id": "f46c5898-a6b5-49b0-b27d-1826bd022c2c",
   "metadata": {},
   "outputs": [],
   "source": [
    "# Exercise 7 - Create a markdown cell introducing arithmetic expression examples"
   ]
  },
  {
   "cell_type": "markdown",
   "id": "cdfe39c1-b485-4c52-ad8f-93c0416a8b38",
   "metadata": {},
   "source": [
    "### Below are a few examples of evaluating arithmetic expressions in Python."
   ]
  },
  {
   "cell_type": "code",
   "execution_count": 13,
   "id": "ad6e281b-2fcb-46c3-b12b-540e0e546180",
   "metadata": {},
   "outputs": [],
   "source": [
    "#Exercise 8 - Create a code cell to multiply and add numbers"
   ]
  },
  {
   "cell_type": "code",
   "execution_count": 14,
   "id": "becb6d86-15a2-4b28-8a91-9b155a9ad9fb",
   "metadata": {},
   "outputs": [],
   "source": [
    "#This a simple arithmetic expression to mutiply then add integers"
   ]
  },
  {
   "cell_type": "code",
   "execution_count": 16,
   "id": "4bd4d49d-2a98-4ef6-9c98-cb47e3acf666",
   "metadata": {},
   "outputs": [],
   "source": [
    "result= (3*4)+5"
   ]
  },
  {
   "cell_type": "code",
   "execution_count": 17,
   "id": "96d52a6a-0ad6-4dad-976f-9766e958e63c",
   "metadata": {},
   "outputs": [
    {
     "data": {
      "text/plain": [
       "17"
      ]
     },
     "execution_count": 17,
     "metadata": {},
     "output_type": "execute_result"
    }
   ],
   "source": [
    "result"
   ]
  },
  {
   "cell_type": "code",
   "execution_count": 18,
   "id": "a6ea9fa9-19bd-4c15-81b4-1343c496813a",
   "metadata": {},
   "outputs": [],
   "source": [
    "#Exercise 9 - Create a code cell to convert minutes to hours"
   ]
  },
  {
   "cell_type": "code",
   "execution_count": 19,
   "id": "e6bf096c-6d93-4fbf-8494-7a74d3805e42",
   "metadata": {},
   "outputs": [],
   "source": [
    "#This will convert 200 minutes to hours by diving by 60"
   ]
  },
  {
   "cell_type": "code",
   "execution_count": 21,
   "id": "4f8a6648-8956-4c9d-97f8-3235535707d7",
   "metadata": {},
   "outputs": [],
   "source": [
    "hours=200/60"
   ]
  },
  {
   "cell_type": "code",
   "execution_count": 22,
   "id": "633851ee-a4bf-4a58-bb17-9ef5aadacf7c",
   "metadata": {},
   "outputs": [
    {
     "data": {
      "text/plain": [
       "3.3333333333333335"
      ]
     },
     "execution_count": 22,
     "metadata": {},
     "output_type": "execute_result"
    }
   ],
   "source": [
    "hours"
   ]
  },
  {
   "cell_type": "code",
   "execution_count": 23,
   "id": "a8c9b653-3517-49ea-a5ce-1af53073fea7",
   "metadata": {},
   "outputs": [],
   "source": [
    "#Exercise 11 - Create a markdown cell to indicate the Author's name"
   ]
  },
  {
   "cell_type": "markdown",
   "id": "75907905-a571-4aaa-b52a-3afa9809775a",
   "metadata": {},
   "source": [
    "## Author\n",
    "Lautaro Saint Antonin"
   ]
  },
  {
   "cell_type": "code",
   "execution_count": null,
   "id": "2ed2b2ed-1f92-40bd-ab58-34c378f342ba",
   "metadata": {},
   "outputs": [],
   "source": []
  }
 ],
 "metadata": {
  "kernelspec": {
   "display_name": "Python 3 (ipykernel)",
   "language": "python",
   "name": "python3"
  },
  "language_info": {
   "codemirror_mode": {
    "name": "ipython",
    "version": 3
   },
   "file_extension": ".py",
   "mimetype": "text/x-python",
   "name": "python",
   "nbconvert_exporter": "python",
   "pygments_lexer": "ipython3",
   "version": "3.11.9"
  }
 },
 "nbformat": 4,
 "nbformat_minor": 5
}
